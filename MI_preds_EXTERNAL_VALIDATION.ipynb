{
 "cells": [
  {
   "cell_type": "markdown",
   "id": "rotary-choice",
   "metadata": {},
   "source": [
    "## Script to create AUC plot and compute confusion matrix for external validation on AREDS"
   ]
  },
  {
   "cell_type": "code",
   "execution_count": null,
   "id": "adolescent-cooperative",
   "metadata": {},
   "outputs": [],
   "source": [
    "import pandas as pd\n",
    "import numpy as np\n",
    "from sklearn import metrics\n",
    "import matplotlib.pyplot as plt"
   ]
  },
  {
   "cell_type": "code",
   "execution_count": null,
   "id": "otherwise-twenty",
   "metadata": {},
   "outputs": [],
   "source": [
    "# Predictions obtained from NIH collaborators\n",
    "preds_labels = pd.read_csv('./MI_preds_051321.csv')"
   ]
  },
  {
   "cell_type": "code",
   "execution_count": null,
   "id": "mediterranean-convention",
   "metadata": {},
   "outputs": [],
   "source": [
    "preds_labels.columns"
   ]
  },
  {
   "cell_type": "code",
   "execution_count": null,
   "id": "expensive-merchant",
   "metadata": {},
   "outputs": [],
   "source": [
    "sum(preds_labels['MI_event'].values)"
   ]
  },
  {
   "cell_type": "code",
   "execution_count": null,
   "id": "actual-cotton",
   "metadata": {},
   "outputs": [],
   "source": [
    "len(preds_labels['MI_event'].values)"
   ]
  },
  {
   "cell_type": "code",
   "execution_count": null,
   "id": "earned-rating",
   "metadata": {},
   "outputs": [],
   "source": [
    "# Label 0: No AMD\n",
    "# Label 1: if not a Label 3 or Label 2, and has medium drusen (i.e.  63-124μm)\n",
    "# Label 2: if it’s not a Label 3, and (a) has large drusen  (i.e.>=125μm)  with/without  PA,  \n",
    "# or (b) medium drusen (i.e.  63-124μm) with PA\n",
    "# Label  3: Eye  has  either  non-central/central Geographic atrophy (GA) \n",
    "# and/or Neovascular Age-related macular degeneration (AMD)\n",
    "\n",
    "pd.unique(preds_labels['right_amd_scale'])"
   ]
  },
  {
   "cell_type": "code",
   "execution_count": null,
   "id": "relative-salvation",
   "metadata": {},
   "outputs": [],
   "source": [
    "pos_labels = preds_labels.loc[preds_labels['MI_event'] == 1]\n",
    "neg_labels = preds_labels.loc[preds_labels['MI_event'] == 0]\n",
    "\n",
    "\n",
    "# Negative labels\n",
    "# Discarding rows with AMD = 1\n",
    "indexNames = neg_labels[neg_labels['right_amd_scale'] == 1].index # Delete these row indexes\n",
    "neg_labels = neg_labels.drop(indexNames)\n",
    "# Discarding rows with AMD = 2\n",
    "indexNames = neg_labels[neg_labels['right_amd_scale'] == 2].index # Delete these row indexes\n",
    "neg_labels = neg_labels.drop(indexNames)\n",
    "# Discarding rows with AMD = 3\n",
    "indexNames = neg_labels[neg_labels['right_amd_scale'] == 3].index # Delete these row indexes\n",
    "neg_labels = neg_labels.drop(indexNames)\n",
    "\n",
    "# # Positive labels\n",
    "# Discarding rows with AMD = 1\n",
    "indexNames = pos_labels[pos_labels['right_amd_scale'] == 1].index # Delete these row indexes\n",
    "pos_labels = pos_labels.drop(indexNames)\n",
    "# Discarding rows with AMD = 2\n",
    "indexNames = pos_labels[pos_labels['right_amd_scale'] == 2].index # Delete these row indexes\n",
    "pos_labels = pos_labels.drop(indexNames)\n",
    "# Discarding rows with AMD = 3\n",
    "indexNames = pos_labels[pos_labels['right_amd_scale'] == 3].index # Delete these row indexes\n",
    "pos_labels = pos_labels.drop(indexNames)\n"
   ]
  },
  {
   "cell_type": "code",
   "execution_count": null,
   "id": "exposed-preservation",
   "metadata": {},
   "outputs": [],
   "source": [
    "pos_labels"
   ]
  },
  {
   "cell_type": "code",
   "execution_count": null,
   "id": "stupid-metropolitan",
   "metadata": {},
   "outputs": [],
   "source": [
    "def plot():\n",
    "    fig, ax = plt.subplots(figsize=(12, 10))\n",
    "    ax.plot([0, 1], [0, 1], linestyle='--', lw=3, color='r', label='Chance', alpha=.9)\n",
    "    plt.plot(fpr,tpr,lw=4,label=\"AUC=\"+str(round(auc,2)))\n",
    "    ax.legend(loc=\"lower right\", fontsize=22)\n",
    "    ax.tick_params(labelsize=22)\n",
    "    ax.set_ylabel('True Positive Rate', fontsize=22)\n",
    "    ax.set_xlabel('False Positive Rate', fontsize=22)\n",
    "    plt.savefig('AUC_MI_EXTERNAL_' + str(round(auc,2)) + '.png')\n",
    "    plt.savefig('AUC_MI_EXTERNAL_' + str(round(auc,2)) + '.pdf')\n",
    "    plt.show()\n",
    "    plt.close()"
   ]
  },
  {
   "cell_type": "code",
   "execution_count": null,
   "id": "preceding-detail",
   "metadata": {},
   "outputs": [],
   "source": [
    "# Creating a function to report confusion metrics\n",
    "def confusion_metrics (conf_matrix):\n",
    "    \n",
    "    # save confusion matrix and slice into four pieces   \n",
    "    TP = conf_matrix[1][1]\n",
    "    TN = conf_matrix[0][0]\n",
    "    FP = conf_matrix[0][1]\n",
    "    FN = conf_matrix[1][0]    \n",
    "    print('True Positives:', TP)\n",
    "    print('True Negatives:', TN)\n",
    "    print('False Positives:', FP)\n",
    "    print('False Negatives:', FN)\n",
    "    \n",
    "    # calculate accuracy\n",
    "    conf_accuracy = (float (TP+TN) / float(TP + TN + FP + FN))\n",
    "    \n",
    "    # calculate mis-classification\n",
    "    conf_misclassification = 1 - conf_accuracy\n",
    "    \n",
    "    # calculate the sensitivity\n",
    "    conf_sensitivity = (TP / float(TP + FN))    # calculate the specificity\n",
    "    conf_specificity = (TN / float(TN + FP))\n",
    "    \n",
    "    # calculate precision\n",
    "    conf_precision = (TN / float(TN + FP))    # calculate f_1 score\n",
    "    conf_f1 = 2 * ((conf_precision * conf_sensitivity) / (conf_precision + conf_sensitivity))    \n",
    "    print(f'Accuracy: {round(conf_accuracy,2)}') \n",
    "    print(f'Mis-Classification: {round(conf_misclassification,2)}') \n",
    "    print(f'Sensitivity: {round(conf_sensitivity,2)}') \n",
    "    print(f'Specificity: {round(conf_specificity,2)}') \n",
    "    print(f'Precision: {round(conf_precision,2)}')\n",
    "    print(f'f_1 Score: {round(conf_f1,2)}')"
   ]
  },
  {
   "cell_type": "code",
   "execution_count": null,
   "id": "egyptian-literacy",
   "metadata": {},
   "outputs": [],
   "source": [
    "auc_pilot = 0\n",
    "thrs = 0.16\n",
    "\n",
    "new_neg_labels = neg_labels.sample(n=70)    \n",
    "\n",
    "preds_labels = pd.concat([new_neg_labels, pos_labels])\n",
    "\n",
    "fpr, tpr, thresholds = metrics.roc_curve(preds_labels['MI_event'].values,\n",
    "                                         preds_labels['MI_pred1'].values,\n",
    "                                         pos_label=1)\n",
    "cm = metrics.confusion_matrix(preds_labels['MI_event'].values,\n",
    "                                         preds_labels['MI_pred1'].values>thrs)\n",
    "\n",
    "auc = metrics.auc(fpr, tpr)\n",
    "confusion_metrics(cm)\n",
    "print('-'*50)\n",
    "# plot()"
   ]
  }
 ],
 "metadata": {
  "kernelspec": {
   "display_name": "Python 3",
   "language": "python",
   "name": "python3"
  },
  "language_info": {
   "codemirror_mode": {
    "name": "ipython",
    "version": 3
   },
   "file_extension": ".py",
   "mimetype": "text/x-python",
   "name": "python",
   "nbconvert_exporter": "python",
   "pygments_lexer": "ipython3",
   "version": "3.6.12"
  }
 },
 "nbformat": 4,
 "nbformat_minor": 5
}
