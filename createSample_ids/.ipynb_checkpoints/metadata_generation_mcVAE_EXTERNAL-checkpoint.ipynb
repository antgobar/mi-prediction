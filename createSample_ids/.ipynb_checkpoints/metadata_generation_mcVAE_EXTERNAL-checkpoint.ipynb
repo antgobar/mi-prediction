{
 "cells": [
  {
   "cell_type": "code",
   "execution_count": null,
   "id": "solved-control",
   "metadata": {},
   "outputs": [],
   "source": [
    "import numpy as np\n",
    "import pandas as pd"
   ]
  },
  {
   "cell_type": "code",
   "execution_count": null,
   "id": "enhanced-pierce",
   "metadata": {},
   "outputs": [],
   "source": [
    "x = pd.read_csv('./ids_metadata_EXTERNAL.csv')\n",
    "ref = pd.read_csv('./indexed_manual_LVM_LVEDV_mtdt.csv')"
   ]
  },
  {
   "cell_type": "code",
   "execution_count": null,
   "id": "pending-harris",
   "metadata": {},
   "outputs": [],
   "source": [
    "print(x['ID'])"
   ]
  },
  {
   "cell_type": "code",
   "execution_count": null,
   "id": "western-glance",
   "metadata": {},
   "outputs": [],
   "source": [
    "# Creating random values \n",
    "# ['sex', 'dbpa', 'sbpa', 'ss', 'ads', 'bmi', 'age', 'hba1c', 'chol', 'glucose']\n",
    "\n",
    "x['sex'] = np.random.randint(2, size=100)\n",
    "x['dbpa'] = np.round(np.random.uniform(low=70, high=ref['dbpa'].values.max(), size=(100,)), 2)\n",
    "x['sbpa'] = np.round(np.random.uniform(low=60, high=ref['sbpa'].values.max(), size=(100,)), 2)\n",
    "x['ss'] = np.random.randint(2, size=100)\n",
    "x['ads'] = np.random.randint(3, size=100)\n",
    "x['bmi'] = np.round(np.random.uniform(low=15, high=ref['bmi'].values.max(), size=(100,)), 2)\n",
    "x['age'] = np.random.randint(95, size=100)\n",
    "x['hba1c'] = np.round(np.random.uniform(low=5, high=ref['hba1c'].values.max(), size=(100,)), 2)\n",
    "x['chol'] = np.round(np.random.uniform(low=5, high=ref['chol'].values.max(), size=(100,)), 2)\n",
    "x['glucose'] = np.round(np.random.uniform(low=6, high=ref['glucose'].values.max(), size=(100,)), 2)\n",
    "\n",
    "# x['sbp'] = np.round(np.random.uniform(low=80, high=ref['sbp'].values.max(), size=(100,)), 2)\n",
    "# x['dbp'] = np.round(np.random.uniform(low=60, high=ref['dbp'].values.max(), size=(100,)), 2)\n",
    "# x['pr'] = np.round(np.random.uniform(low=50, high=ref['pr'].values.max(), size=(100,)), 2)\n",
    "# x['aif'] = np.random.randint(5, size=100)\n",
    "# x['dm'] = np.random.randint(2, size=100)\n",
    "# x['h'] = np.round(np.random.uniform(low=60, high=ref['h'].values.max(), size=(100,)), 2)\n",
    "# x['eb'] = np.random.randint(19, size=100)\n",
    "# x['w'] = np.round(np.random.uniform(low=45, high=ref['w'].values.max(), size=(100,)), 2)\n",
    "# x['bsa'] = np.round(np.random.uniform(low=0.5, high=ref['bsa'].values.max(), size=(100,)), 2)\n",
    "# x['C_pro'] = np.round(np.random.uniform(low=4, high=ref['C_pro'].values.max(), size=(100,)), 2)"
   ]
  },
  {
   "cell_type": "code",
   "execution_count": null,
   "id": "comic-arlington",
   "metadata": {},
   "outputs": [],
   "source": [
    "# print(ref['ss'].values.min())\n",
    "# print(ref['ss'].values.max())\n",
    "# print(ref['ss'][10:30])"
   ]
  },
  {
   "cell_type": "code",
   "execution_count": null,
   "id": "industrial-floating",
   "metadata": {},
   "outputs": [],
   "source": [
    "x.columns"
   ]
  },
  {
   "cell_type": "code",
   "execution_count": null,
   "id": "european-columbus",
   "metadata": {},
   "outputs": [],
   "source": [
    "x[['ID', 'sex', 'dbpa', 'sbpa', 'ss', 'ads', 'bmi', 'age', 'hba1c', 'chol', 'glucose']].to_csv('./ids_metadata_EXTERNAL_v2.csv', index=False)"
   ]
  }
 ],
 "metadata": {
  "kernelspec": {
   "display_name": "Python 3",
   "language": "python",
   "name": "python3"
  },
  "language_info": {
   "codemirror_mode": {
    "name": "ipython",
    "version": 3
   },
   "file_extension": ".py",
   "mimetype": "text/x-python",
   "name": "python",
   "nbconvert_exporter": "python",
   "pygments_lexer": "ipython3",
   "version": "3.6.12"
  }
 },
 "nbformat": 4,
 "nbformat_minor": 5
}
