{
 "cells": [
  {
   "cell_type": "markdown",
   "metadata": {},
   "source": [
    "## Script to plot distribution of the joint latent variables"
   ]
  },
  {
   "cell_type": "code",
   "execution_count": null,
   "metadata": {},
   "outputs": [],
   "source": [
    "import numpy as np\n",
    "import matplotlib.pyplot as plt\n",
    "import seaborn as sns"
   ]
  },
  {
   "cell_type": "code",
   "execution_count": null,
   "metadata": {},
   "outputs": [],
   "source": [
    "var_retina_using_both = np.load('latent_vars_retina_using_retina_CMR.npy')\n",
    "var_cmr_using_both = np.load('latent_vars_cmr_using_retina_CMR.npy')\n",
    "var_retina_using_retina_ONLY = np.load('latent_vars_retina_using_retina_ONLY.npy')"
   ]
  },
  {
   "cell_type": "code",
   "execution_count": null,
   "metadata": {},
   "outputs": [],
   "source": [
    "# Computing mean and std\n",
    "mean_retina_both = var_cmr_using_both[0,:].mean()\n",
    "std_retina_both = var_cmr_using_both[0,:].std()\n",
    "\n",
    "mean_retina_only = var_retina_using_retina_ONLY[0,:].mean()\n",
    "std_retina_only = var_retina_using_retina_ONLY[0,:].std()"
   ]
  },
  {
   "cell_type": "code",
   "execution_count": null,
   "metadata": {},
   "outputs": [],
   "source": [
    "ax = sns.distplot(var_retina_using_retina_ONLY[0,:], \n",
    "                  color=\"orange\", \n",
    "                  hist=False, \n",
    "                  label=f'Retina Only: {str(round(mean_retina_only, 2))} ({str(round(std_retina_only, 2))})'\n",
    "                  )\n",
    "ax = sns.distplot(var_cmr_using_both[0,:], \n",
    "                  color=\"blue\", \n",
    "                  hist=False, \n",
    "                  label=f'Retina + CMR: {str(round(mean_retina_both, 2))} ({str(round(std_retina_both, 2))})'\n",
    "                 )\n",
    "plt.legend(loc=\"upper right\") \n",
    "ax.set_ylabel('Normalised probability', fontsize=15)\n",
    "ax.grid(True)\n",
    "plt.savefig(\"dis.pdf\", bbox_inches='tight')\n",
    "plt.savefig(\"dis.png\", bbox_inches='tight')\n",
    "plt.show()\n",
    "plt.clf()"
   ]
  },
  {
   "cell_type": "code",
   "execution_count": null,
   "metadata": {},
   "outputs": [],
   "source": []
  }
 ],
 "metadata": {
  "kernelspec": {
   "display_name": "Python 3",
   "language": "python",
   "name": "python3"
  },
  "language_info": {
   "codemirror_mode": {
    "name": "ipython",
    "version": 3
   },
   "file_extension": ".py",
   "mimetype": "text/x-python",
   "name": "python",
   "nbconvert_exporter": "python",
   "pygments_lexer": "ipython3",
   "version": "3.6.5"
  }
 },
 "nbformat": 4,
 "nbformat_minor": 5
}
